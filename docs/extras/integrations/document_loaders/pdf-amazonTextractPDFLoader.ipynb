{
 "cells": [
  {
   "cell_type": "markdown",
   "id": "1f3cebbe-079a-4bfe-b1a1-07bdac882ce2",
   "metadata": {},
   "source": [
    "# Amazon Textract LangChain Document Loader\n",
    "\n",
    "Amazon Textract is a machine learning (ML) service that automatically extracts text, handwriting, and data from scanned documents. It goes beyond simple optical character recognition (OCR) to identify, understand, and extract data from forms and tables. Today, many companies manually extract data from scanned documents such as PDFs, images, tables, and forms, or through simple OCR software that requires manual configuration (which often must be updated when the form changes). To overcome these manual and expensive processes, Textract uses ML to read and process any type of document, accurately extracting text, handwriting, tables, and other data with no manual effort. You can quickly automate document processing and act on the information extracted, whether you’re automating loans processing or extracting information from invoices and receipts. Textract can extract the data in minutes instead of hours or days.\n",
    "\n",
    "This sample demonstrates the use of Amazon Textract in combination with LangChain as a DocumentLoader.\n",
    "\n",
    "Textract supports PDF, TIFF, PNG and JPEG format.\n",
    "\n",
    "Check https://docs.aws.amazon.com/textract/latest/dg/limits-document.html for supported document sizes, languages and characters."
   ]
  },
  {
   "cell_type": "code",
   "execution_count": 1,
   "id": "58d466e0-b2fc-480a-9f8c-5351622eb3d6",
   "metadata": {
    "tags": []
   },
   "outputs": [
    {
     "name": "stdout",
     "output_type": "stream",
     "text": [
      "\u001b[31mERROR: pip's dependency resolver does not currently take into account all the packages that are installed. This behaviour is the source of the following dependency conflicts.\n",
      "awscli 1.27.157 requires botocore==1.29.157, but you have botocore 1.31.11 which is incompatible.\n",
      "awscli 1.27.157 requires PyYAML<5.5,>=3.10, but you have pyyaml 6.0.1 which is incompatible.\n",
      "hdijupyterutils 0.20.5 requires pandas<2.0.0,>=0.17.1, but you have pandas 2.0.1 which is incompatible.\n",
      "numba 0.56.4 requires numpy<1.24,>=1.18, but you have numpy 1.25.1 which is incompatible.\n",
      "sagemaker 2.167.0 requires PyYAML==6.0, but you have pyyaml 6.0.1 which is incompatible.\n",
      "sparkmagic 0.20.5 requires nest-asyncio==1.5.5, but you have nest-asyncio 1.5.6 which is incompatible.\n",
      "sparkmagic 0.20.5 requires pandas<2.0.0,>=0.17.1, but you have pandas 2.0.1 which is incompatible.\n",
      "sphinx 7.0.0 requires docutils<0.20,>=0.18.1, but you have docutils 0.16 which is incompatible.\u001b[0m\u001b[31m\n",
      "\u001b[0mNote: you may need to restart the kernel to use updated packages.\n"
     ]
    }
   ],
   "source": [
    "%pip -q install langchain-0.0.242-py3-none-any.whl --force-reinstall"
   ]
  },
  {
   "cell_type": "code",
   "execution_count": 2,
   "id": "c049beaf-f904-4ce6-91ca-805da62084c2",
   "metadata": {
    "tags": []
   },
   "outputs": [
    {
     "name": "stdout",
     "output_type": "stream",
     "text": [
      "Note: you may need to restart the kernel to use updated packages.\n"
     ]
    }
   ],
   "source": [
    "%pip install -q boto3 openai tiktoken python-dotenv"
   ]
  },
  {
   "cell_type": "markdown",
   "id": "400b25c6-befa-4730-a201-39ff112c8858",
   "metadata": {},
   "source": [
    "## Sample 1\n",
    "\n",
    "The first example uses a local file, which internally will be send to Amazon Textract sync API. \n",
    "\n",
    "Local files or URL endpoints like HTTP:// are limited to one page documents for Textract.\n",
    "Multi-page documents have to reside on S3."
   ]
  },
  {
   "cell_type": "code",
   "execution_count": 3,
   "id": "1becee92-e82f-42d4-9b4e-b23d77cbe88d",
   "metadata": {
    "tags": []
   },
   "outputs": [],
   "source": [
    "from langchain.document_loaders import AmazonTextractPDFLoader\n",
    "loader = AmazonTextractPDFLoader(\"w2-example.pdf\")\n",
    "documents = loader.load()"
   ]
  },
  {
   "cell_type": "markdown",
   "id": "d566dc56-c9a9-44ec-84fb-a81928f90d40",
   "metadata": {},
   "source": [
    "Output from the file"
   ]
  },
  {
   "cell_type": "code",
   "execution_count": 4,
   "id": "1272ce8c-d298-4059-ac0a-780bf5f82302",
   "metadata": {
    "tags": []
   },
   "outputs": [
    {
     "data": {
      "text/plain": [
       "[Document(page_content=\"EXAMPLE W-2 22222 a Employee's social security number 123-45-6789 OMB No. 1545-0008 b Employer identification number (EIN) 1 Wages, tips, other compensation 2 Federal income tax withheld 11-1111112 98,500.00 15,000.00 c Employer's name, address, and ZIP code 3 Social security wages 4 Social security tax withheld TOPCOMPANY 100,000.00 5000.00 5 Medicare wages and tips 6 Medicare tax withheld 123 STREET RD 100,000.00 1100.00 7 Social security tips 8 Allocated tips ANYWHERE, USA, 12345 d Control number 9 10 Dependent care benefits e Employee's first name and initial Last name Suff. 11 Nonqualified plans 12a D 1,500.00 TOM T. TAXPAYER 13 Statutory Retirement Three party 12b employee plan sick pity 456 ROAD ST X DD 1,000.00 14 Other 12c ANYWHERE, USA, 12345 12d f Employee's address and ZIP code 15 State Employer's state ID number 16 State wages, tips, etc. 17 State income tax 18 Local wages, tips, etc. 19 Local income tax 20 Locality name US 1234 100,000 3000 100,000 4000 USA W-2 Wage and Tax Form Statement 2019 Department of the Treasury-Internal - Revenue Service Copy 1-For State, City, or Local Tax Department AGERAS EXAMPLE W-2 22222 a Employee's social security number 123-45-6789 OMB No. 1545-0008 b Employer identification number (EIN) 1 Wages, tips, other compensation 2 Federal income tax withheld 11-1111112 98,500.00 15,000.00 c Employer's name, address, and ZIP code 3 Social security wages 4 Social security tax withheld TOPCOMPANY 100,000.00 5000.00 5 Medicare wages and tips 6 Medicare tax withheld 123 STREET RD 100,000.00 1100.00 7 Social security tips 8 Allocated tips ANYWHERE, USA, 12345 d Control number 9 10 Dependent care benefits e Employee's first name and initial Last name Suff. 11 Nonqualified plans 12a D 1,500.00 TOM T. TAXPAYER 13 Statutory Retirement Three party 12b employee plan sick pity 456 ROAD ST X DD 1,000.00 14 Other 12c ANYWHERE, USA, 12345 12d f Employee's address and ZIP code 15 State Employer's state ID number 16 State wages, tips, etc. 17 State income tax 18 Local wages, tips, etc. 19 Local income tax 20 Locality name US 1234 100,000 3000 100,000 4000 USA W-2 Wage and Tax Form Statement 2019 Department of the Treasury-Internal - Revenue Service Copy 1-For State, City, or Local Tax Department AGERAS \", metadata={'source': 'w2-example.pdf', 'page': 1})]"
      ]
     },
     "execution_count": 4,
     "metadata": {},
     "output_type": "execute_result"
    }
   ],
   "source": [
    "documents"
   ]
  },
  {
   "cell_type": "markdown",
   "id": "4cf7f19c-3635-453a-9c76-4baf98b8d7f4",
   "metadata": {},
   "source": [
    "## Sample 2\n",
    "The next sample loads a file from an HTTPS endpoint. \n",
    "It has to be single page, as Amazon Textract requires all multi-page documents to be stored on S3."
   ]
  },
  {
   "cell_type": "code",
   "execution_count": 5,
   "id": "10374bfb-b325-451f-8bd0-c686710ab68c",
   "metadata": {
    "tags": []
   },
   "outputs": [],
   "source": [
    "# loader = AmazonTextractPDFLoader(\"s3://amazon-textract-public-content/langchain/alejandro_rosalez_sample_1.jpg\")\n",
    "from langchain.document_loaders import AmazonTextractPDFLoader\n",
    "loader = AmazonTextractPDFLoader(\"https://amazon-textract-public-content.s3.us-east-2.amazonaws.com/langchain/alejandro_rosalez_sample_1.jpg\")\n",
    "documents = loader.load()"
   ]
  },
  {
   "cell_type": "code",
   "execution_count": 6,
   "id": "16a2b6a3-7514-4c2c-a427-6847169af473",
   "metadata": {
    "tags": []
   },
   "outputs": [
    {
     "data": {
      "text/plain": [
       "[Document(page_content='Patient Information First Name: ALE JANDRO Last Name: ROSALEZ Date of Birth: Sex: M Marital Status: MARRIED Email Address: Address: 123 ANY STREET City: ANYTOWN CA Zip Code: 12345 Phone: 646-555-0111 Emergency Contact 1: CARLOS Last Name: SALAZAR First Name: Phone: 212 - 555 - 0150 Relationship to Patient: BROTHER Emergency Contact 2: First Name: JANE Last Name: DOE Phone: 650-555-0123 Relationship to Patient: FRIEND Did you feel fever or feverish lately? Yes No Are you having shortness of breath? Yes No Do you have a cough? Yes No Did you experience loss of taste or smell? Yes No Where you in contact with any confirmed COVID-19 positive patients? Yes No Did you travel in the past 14 days to any regions affected by COVID-19? Yes No Patient Information First Name: ALE JANDRO Last Name: ROSALEZ Date of Birth: Sex: M Marital Status: MARRIED Email Address: Address: 123 ANY STREET City: ANYTOWN CA Zip Code: 12345 Phone: 646-555-0111 Emergency Contact 1: CARLOS Last Name: SALAZAR First Name: Phone: 212 - 555 - 0150 Relationship to Patient: BROTHER Emergency Contact 2: First Name: JANE Last Name: DOE Phone: 650-555-0123 Relationship to Patient: FRIEND Did you feel fever or feverish lately? Yes No Are you having shortness of breath? Yes No Do you have a cough? Yes No Did you experience loss of taste or smell? Yes No Where you in contact with any confirmed COVID-19 positive patients? Yes No Did you travel in the past 14 days to any regions affected by COVID-19? Yes No ', metadata={'source': '/tmp/tmpbu9k5vke/tmp.jpg', 'page': 1})]"
      ]
     },
     "execution_count": 6,
     "metadata": {},
     "output_type": "execute_result"
    }
   ],
   "source": [
    "documents"
   ]
  },
  {
   "cell_type": "markdown",
   "id": "0826847d-f11f-4329-b5a8-66d51f41c9ec",
   "metadata": {},
   "source": [
    "You can use the document in a chain. Here is an example with OpenAI."
   ]
  },
  {
   "cell_type": "markdown",
   "id": "3a9cd8ec-e663-4dc7-9db1-d2f575253141",
   "metadata": {},
   "source": [
    "## Sample 3\n",
    "\n",
    "Process a multi-page document from S3. The sample document resides in a bucket in us-east-2 and Textract needs to be called in that same region to be successful.\n",
    "So for this sample to work, you have to have your SageMaker Notebook running in us-east-2 or when running in a different environment, pass in a boto3 Textract client with that region name."
   ]
  },
  {
   "cell_type": "code",
   "execution_count": 7,
   "id": "8185e3e6-9599-4a47-8969-d6dcef3e6404",
   "metadata": {
    "tags": []
   },
   "outputs": [],
   "source": [
    "import boto3\n",
    "textract_client = boto3.client('textract', region_name='us-east-2')\n",
    "\n",
    "file_path = \"s3://amazon-textract-public-content/langchain/layout-parser-paper.pdf\"\n",
    "loader = AmazonTextractPDFLoader(file_path, boto3_textract_client=textract_client)\n",
    "documents = loader.load()"
   ]
  },
  {
   "cell_type": "markdown",
   "id": "b8901eec-070d-4fd6-9d65-52211d332441",
   "metadata": {},
   "source": [
    "Get number of pages to validate the response (printing out the full response would be quite long...)"
   ]
  },
  {
   "cell_type": "code",
   "execution_count": 12,
   "id": "b23c01c8-cf69-4fe2-8141-4621edb7d79c",
   "metadata": {
    "tags": []
   },
   "outputs": [
    {
     "data": {
      "text/plain": [
       "16"
      ]
     },
     "execution_count": 12,
     "metadata": {},
     "output_type": "execute_result"
    }
   ],
   "source": [
    "len(documents)"
   ]
  },
  {
   "cell_type": "markdown",
   "id": "b3e41b4d-b159-4274-89be-80d8159134ef",
   "metadata": {},
   "source": [
    "## Using the AmazonTextractPDFLoader in an LangChain chain (e. g. OpenAI)\n",
    "\n",
    "The AmazonTextractPDFLoader can be used in a chain the same way the other loaders are used.\n",
    "Textract itself does have a [Query feature](https://docs.aws.amazon.com/textract/latest/dg/API_Query.html), which offers similar functionality to the QA chain in this sample, which is worth checking out as well."
   ]
  },
  {
   "cell_type": "code",
   "execution_count": 10,
   "id": "53c47b24-cc06-4256-9e5b-a82fc80bc55d",
   "metadata": {},
   "outputs": [
    {
     "data": {
      "text/plain": [
       "True"
      ]
     },
     "execution_count": 10,
     "metadata": {},
     "output_type": "execute_result"
    }
   ],
   "source": [
    "# You can store your OPENAI_API_KEY in a .env file as well\n",
    "# import os \n",
    "# from dotenv import load_dotenv\n",
    "\n",
    "# load_dotenv()"
   ]
  },
  {
   "cell_type": "code",
   "execution_count": null,
   "id": "a9ae004c-246c-4c7f-8458-191cd7424a9b",
   "metadata": {
    "tags": []
   },
   "outputs": [],
   "source": [
    "# Or set the OpenAI key in the environment directly\n",
    "import os \n",
    "os.environ[\"OPENAI_API_KEY\"] = \"your-OpenAI-API-key\""
   ]
  },
  {
   "cell_type": "code",
   "execution_count": 11,
   "id": "d52b089c-10ca-45fb-8669-8a1c5fee10d5",
   "metadata": {
    "tags": []
   },
   "outputs": [
    {
     "data": {
      "text/plain": [
       "' The authors are Zejiang Shen, Ruochen Zhang, Melissa Dell, Benjamin Charles Germain Lee, Jacob Carlson, and Weining Li.'"
      ]
     },
     "execution_count": 11,
     "metadata": {},
     "output_type": "execute_result"
    }
   ],
   "source": [
    "from langchain.llms import OpenAI\n",
    "from langchain.chains.question_answering import load_qa_chain\n",
    "\n",
    "chain = load_qa_chain(llm=OpenAI(), chain_type=\"map_reduce\")\n",
    "# query = [\"What is the employee name?\", \"What is the SSN?\"]\n",
    "query = [\"Who are the autors?\"]\n",
    "\n",
    "chain.run(input_documents=documents, question=query)"
   ]
  }
 ],
 "metadata": {
  "kernelspec": {
   "display_name": "conda_python3",
   "language": "python",
   "name": "conda_python3"
  },
  "language_info": {
   "codemirror_mode": {
    "name": "ipython",
    "version": 3
   },
   "file_extension": ".py",
   "mimetype": "text/x-python",
   "name": "python",
   "nbconvert_exporter": "python",
   "pygments_lexer": "ipython3",
   "version": "3.10.10"
  }
 },
 "nbformat": 4,
 "nbformat_minor": 5
}
