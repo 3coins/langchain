{
 "cells": [
  {
   "cell_type": "markdown",
   "metadata": {},
   "source": [
    "# Neptune Cypher QA Chain\n",
    "This QA chain queries Neptune graph database using openCypher and returns human readable response\n"
   ]
  },
  {
   "cell_type": "code",
   "execution_count": null,
   "metadata": {},
   "outputs": [],
   "source": [
    "from langchain.graphs.neptune_graph import NeptuneGraph\n",
    "\n",
    "\n",
    "host = \"amz-9-2342349209.us-east-1.elb.amazonaws.com\"\n",
    "port = 80\n",
    "use_https = False\n",
    "\n",
    "graph = NeptuneGraph(\n",
    "    host=host,\n",
    "    port=port,\n",
    "    use_https=use_https\n",
    ")"
   ]
  },
  {
   "cell_type": "code",
   "execution_count": null,
   "metadata": {},
   "outputs": [],
   "source": [
    "from langchain.llms import OpenAI\n",
    "from langchain.chains.graph_qa.neptune_cypher import NeptuneOpenCypherQAChain\n",
    "\n",
    "llm = OpenAI(temperature=0)\n",
    "\n",
    "chain = NeptuneOpenCypherQAChain.from_llm(\n",
    "    llm=llm, \n",
    "    graph=graph\n",
    ")\n",
    "\n",
    "chain.run(\"how many outgoing routes does the Austin airport have?\")"
   ]
  },
  {
   "cell_type": "code",
   "execution_count": null,
   "metadata": {},
   "outputs": [],
   "source": [
    "# For using the gpt-4 model, use the ChatOpenAI LLM\n",
    "from langchain.chat_models import ChatOpenAI\n",
    "\n",
    "llm = ChatOpenAI(temperature=0, model=\"gpt-4\")\n",
    "\n",
    "chain = NeptuneOpenCypherQAChain.from_llm(\n",
    "    llm=llm, \n",
    "    graph=graph\n",
    ")\n",
    "\n",
    "chain.run(\"how many outgoing routes does the Austin airport have?\")"
   ]
  }
 ],
 "metadata": {
  "language_info": {
   "name": "python"
  },
  "orig_nbformat": 4
 },
 "nbformat": 4,
 "nbformat_minor": 2
}
